{
 "cells": [
  {
   "cell_type": "code",
   "execution_count": 1,
   "metadata": {},
   "outputs": [
    {
     "name": "stderr",
     "output_type": "stream",
     "text": [
      "C:\\Users\\Ahmed\\anaconda3\\lib\\site-packages\\pandas\\core\\computation\\expressions.py:20: UserWarning: Pandas requires version '2.7.3' or newer of 'numexpr' (version '2.7.1' currently installed).\n",
      "  from pandas.core.computation.check import NUMEXPR_INSTALLED\n"
     ]
    }
   ],
   "source": [
    "import time\n",
    "from selenium.webdriver.chrome.options import Options\n",
    "from selenium.webdriver.common.by import By\n",
    "from selenium.webdriver.common.keys import Keys\n",
    "from selenium.webdriver.common.action_chains import ActionChains\n",
    "from selenium.webdriver.support.ui import WebDriverWait \n",
    "from selenium.webdriver.support import expected_conditions as EC\n",
    "import pandas as pd\n",
    "from selenium import webdriver\n",
    "import time\n",
    "from bs4 import BeautifulSoup\n",
    "import requests\n",
    "from urllib.request import urlopen\n",
    "import requests\n",
    "import os.path\n",
    "from os import path\n",
    "import time\n",
    "import random\n",
    "import requests\n",
    "from selenium import webdriver\n",
    "from selenium.common.exceptions import NoSuchElementException\n",
    "from webdriver_manager.chrome import ChromeDriverManager as CM\n",
    "import undetected_chromedriver as uc\n",
    "import pandas as pd\n",
    "import random\n",
    "import requests\n"
   ]
  },
  {
   "cell_type": "code",
   "execution_count": 2,
   "metadata": {},
   "outputs": [],
   "source": [
    "Data=pd.read_csv('Book1.csv')"
   ]
  },
  {
   "cell_type": "code",
   "execution_count": 3,
   "metadata": {},
   "outputs": [
    {
     "data": {
      "text/html": [
       "<div>\n",
       "<style scoped>\n",
       "    .dataframe tbody tr th:only-of-type {\n",
       "        vertical-align: middle;\n",
       "    }\n",
       "\n",
       "    .dataframe tbody tr th {\n",
       "        vertical-align: top;\n",
       "    }\n",
       "\n",
       "    .dataframe thead th {\n",
       "        text-align: right;\n",
       "    }\n",
       "</style>\n",
       "<table border=\"1\" class=\"dataframe\">\n",
       "  <thead>\n",
       "    <tr style=\"text-align: right;\">\n",
       "      <th></th>\n",
       "      <th>https://www.tiktok.com/@oliviapercoco?_t=8aMpAN0ygTO&amp;_r=1</th>\n",
       "    </tr>\n",
       "  </thead>\n",
       "  <tbody>\n",
       "    <tr>\n",
       "      <th>0</th>\n",
       "      <td>https://www.tiktok.com/@waytsuccess?_t=8aMpJNh...</td>\n",
       "    </tr>\n",
       "    <tr>\n",
       "      <th>1</th>\n",
       "      <td>https://www.tiktok.com/@hustlerslimit?_t=8aMpL...</td>\n",
       "    </tr>\n",
       "    <tr>\n",
       "      <th>2</th>\n",
       "      <td>https://www.tiktok.com/@ben_alistor?_t=8aMpQfN...</td>\n",
       "    </tr>\n",
       "    <tr>\n",
       "      <th>3</th>\n",
       "      <td>https://www.tiktok.com/@winningbusinesssecrets...</td>\n",
       "    </tr>\n",
       "    <tr>\n",
       "      <th>4</th>\n",
       "      <td>https://www.tiktok.com/@robertcroakofficial?_t...</td>\n",
       "    </tr>\n",
       "    <tr>\n",
       "      <th>5</th>\n",
       "      <td>https://www.tiktok.com/@shawnryanshow?_t=8aMpZ...</td>\n",
       "    </tr>\n",
       "    <tr>\n",
       "      <th>6</th>\n",
       "      <td>https://www.tiktok.com/@simonsquibb?_t=8aMpciJ...</td>\n",
       "    </tr>\n",
       "    <tr>\n",
       "      <th>7</th>\n",
       "      <td>https://www.tiktok.com/@koroshfarazad?_t=8aMpe...</td>\n",
       "    </tr>\n",
       "    <tr>\n",
       "      <th>8</th>\n",
       "      <td>https://www.tiktok.com/@.zyi_k?_t=8aMpgRoL8z7&amp;...</td>\n",
       "    </tr>\n",
       "    <tr>\n",
       "      <th>9</th>\n",
       "      <td>https://www.tiktok.com/@realhannahchan?_t=8aMp...</td>\n",
       "    </tr>\n",
       "    <tr>\n",
       "      <th>10</th>\n",
       "      <td>https://www.tiktok.com/@monneycord?_t=8aMpmy9e...</td>\n",
       "    </tr>\n",
       "    <tr>\n",
       "      <th>11</th>\n",
       "      <td>https://www.tiktok.com/@brunobajrami?_t=8aMpq7...</td>\n",
       "    </tr>\n",
       "    <tr>\n",
       "      <th>12</th>\n",
       "      <td>https://www.tiktok.com/@rinmatheboss?_t=8aMprB...</td>\n",
       "    </tr>\n",
       "    <tr>\n",
       "      <th>13</th>\n",
       "      <td>https://www.tiktok.com/@svetlin.todd?_t=8aMpsk...</td>\n",
       "    </tr>\n",
       "    <tr>\n",
       "      <th>14</th>\n",
       "      <td>https://www.tiktok.com/@wealthation?_t=8aMpvtO...</td>\n",
       "    </tr>\n",
       "    <tr>\n",
       "      <th>15</th>\n",
       "      <td>https://www.tiktok.com/@milowilkinsonn?_t=8aMp...</td>\n",
       "    </tr>\n",
       "    <tr>\n",
       "      <th>16</th>\n",
       "      <td>https://www.tiktok.com/@ashleycbarnett?_t=8aMq...</td>\n",
       "    </tr>\n",
       "    <tr>\n",
       "      <th>17</th>\n",
       "      <td>https://www.tiktok.com/@_businessworks?_t=8aMq...</td>\n",
       "    </tr>\n",
       "    <tr>\n",
       "      <th>18</th>\n",
       "      <td>https://www.tiktok.com/@mariawilkes?_t=8aMq6Jk...</td>\n",
       "    </tr>\n",
       "    <tr>\n",
       "      <th>19</th>\n",
       "      <td>https://www.tiktok.com/@jonpenberthy?_t=8aMq8I...</td>\n",
       "    </tr>\n",
       "    <tr>\n",
       "      <th>20</th>\n",
       "      <td>https://www.tiktok.com/@steven?_t=8aMqAg5xaBJ&amp;...</td>\n",
       "    </tr>\n",
       "    <tr>\n",
       "      <th>21</th>\n",
       "      <td>https://www.tiktok.com/@moneymindset.cord?_t=8...</td>\n",
       "    </tr>\n",
       "    <tr>\n",
       "      <th>22</th>\n",
       "      <td>https://www.tiktok.com/@evancarmichael?_t=8aMq...</td>\n",
       "    </tr>\n",
       "    <tr>\n",
       "      <th>23</th>\n",
       "      <td>https://www.tiktok.com/@evancarmichael?_t=8aMq...</td>\n",
       "    </tr>\n",
       "    <tr>\n",
       "      <th>24</th>\n",
       "      <td>https://www.tiktok.com/@realcodiesanchez?_t=8a...</td>\n",
       "    </tr>\n",
       "    <tr>\n",
       "      <th>25</th>\n",
       "      <td>https://www.tiktok.com/@themasculinemonk?_t=8a...</td>\n",
       "    </tr>\n",
       "    <tr>\n",
       "      <th>26</th>\n",
       "      <td>https://www.tiktok.com/@starterstory?_t=8aMqRO...</td>\n",
       "    </tr>\n",
       "    <tr>\n",
       "      <th>27</th>\n",
       "      <td>https://www.tiktok.com/@tristnet?_t=8aMqYzZtv7...</td>\n",
       "    </tr>\n",
       "    <tr>\n",
       "      <th>28</th>\n",
       "      <td>https://www.tiktok.com/@thefinancialwolf?_t=8a...</td>\n",
       "    </tr>\n",
       "    <tr>\n",
       "      <th>29</th>\n",
       "      <td>https://www.tiktok.com/@saintjackcosmetics?_t=...</td>\n",
       "    </tr>\n",
       "    <tr>\n",
       "      <th>30</th>\n",
       "      <td>https://www.tiktok.com/@vanader?_t=8aMqiBN2TEk...</td>\n",
       "    </tr>\n",
       "    <tr>\n",
       "      <th>31</th>\n",
       "      <td>https://www.tiktok.com/@jefflernerofficial?_t=...</td>\n",
       "    </tr>\n",
       "    <tr>\n",
       "      <th>32</th>\n",
       "      <td>https://www.tiktok.com/@mindbodynetwork?_t=8aM...</td>\n",
       "    </tr>\n",
       "    <tr>\n",
       "      <th>33</th>\n",
       "      <td>https://www.tiktok.com/@wealth?_t=8aMs4ftx0AX&amp;...</td>\n",
       "    </tr>\n",
       "  </tbody>\n",
       "</table>\n",
       "</div>"
      ],
      "text/plain": [
       "   https://www.tiktok.com/@oliviapercoco?_t=8aMpAN0ygTO&_r=1\n",
       "0   https://www.tiktok.com/@waytsuccess?_t=8aMpJNh...       \n",
       "1   https://www.tiktok.com/@hustlerslimit?_t=8aMpL...       \n",
       "2   https://www.tiktok.com/@ben_alistor?_t=8aMpQfN...       \n",
       "3   https://www.tiktok.com/@winningbusinesssecrets...       \n",
       "4   https://www.tiktok.com/@robertcroakofficial?_t...       \n",
       "5   https://www.tiktok.com/@shawnryanshow?_t=8aMpZ...       \n",
       "6   https://www.tiktok.com/@simonsquibb?_t=8aMpciJ...       \n",
       "7   https://www.tiktok.com/@koroshfarazad?_t=8aMpe...       \n",
       "8   https://www.tiktok.com/@.zyi_k?_t=8aMpgRoL8z7&...       \n",
       "9   https://www.tiktok.com/@realhannahchan?_t=8aMp...       \n",
       "10  https://www.tiktok.com/@monneycord?_t=8aMpmy9e...       \n",
       "11  https://www.tiktok.com/@brunobajrami?_t=8aMpq7...       \n",
       "12  https://www.tiktok.com/@rinmatheboss?_t=8aMprB...       \n",
       "13  https://www.tiktok.com/@svetlin.todd?_t=8aMpsk...       \n",
       "14  https://www.tiktok.com/@wealthation?_t=8aMpvtO...       \n",
       "15  https://www.tiktok.com/@milowilkinsonn?_t=8aMp...       \n",
       "16  https://www.tiktok.com/@ashleycbarnett?_t=8aMq...       \n",
       "17  https://www.tiktok.com/@_businessworks?_t=8aMq...       \n",
       "18  https://www.tiktok.com/@mariawilkes?_t=8aMq6Jk...       \n",
       "19  https://www.tiktok.com/@jonpenberthy?_t=8aMq8I...       \n",
       "20  https://www.tiktok.com/@steven?_t=8aMqAg5xaBJ&...       \n",
       "21  https://www.tiktok.com/@moneymindset.cord?_t=8...       \n",
       "22  https://www.tiktok.com/@evancarmichael?_t=8aMq...       \n",
       "23  https://www.tiktok.com/@evancarmichael?_t=8aMq...       \n",
       "24  https://www.tiktok.com/@realcodiesanchez?_t=8a...       \n",
       "25  https://www.tiktok.com/@themasculinemonk?_t=8a...       \n",
       "26  https://www.tiktok.com/@starterstory?_t=8aMqRO...       \n",
       "27  https://www.tiktok.com/@tristnet?_t=8aMqYzZtv7...       \n",
       "28  https://www.tiktok.com/@thefinancialwolf?_t=8a...       \n",
       "29  https://www.tiktok.com/@saintjackcosmetics?_t=...       \n",
       "30  https://www.tiktok.com/@vanader?_t=8aMqiBN2TEk...       \n",
       "31  https://www.tiktok.com/@jefflernerofficial?_t=...       \n",
       "32  https://www.tiktok.com/@mindbodynetwork?_t=8aM...       \n",
       "33  https://www.tiktok.com/@wealth?_t=8aMs4ftx0AX&...       "
      ]
     },
     "execution_count": 3,
     "metadata": {},
     "output_type": "execute_result"
    }
   ],
   "source": [
    "Data"
   ]
  },
  {
   "cell_type": "code",
   "execution_count": 5,
   "metadata": {},
   "outputs": [
    {
     "data": {
      "text/plain": [
       "https://www.tiktok.com/@oliviapercoco?_t=8aMpAN0ygTO&_r=1    https://www.tiktok.com/@jonpenberthy?_t=8aMq8I...\n",
       "Name: 19, dtype: object"
      ]
     },
     "execution_count": 5,
     "metadata": {},
     "output_type": "execute_result"
    }
   ],
   "source": [
    "Data.iloc[19]"
   ]
  },
  {
   "cell_type": "code",
   "execution_count": 2,
   "metadata": {},
   "outputs": [
    {
     "name": "stderr",
     "output_type": "stream",
     "text": [
      "<ipython-input-2-985138493462>:15: DeprecationWarning: executable_path has been deprecated, please pass in a Service object\n",
      "  driver = webdriver.Chrome(options=options,executable_path=r'D:\\chromedriver.exe')\n"
     ]
    }
   ],
   "source": [
    "options = Options()\n",
    "options.add_argument(\"start-maximized\")\n",
    "\n",
    "# Chrome is controlled by automated test software\n",
    "options.add_experimental_option(\"excludeSwitches\", [\"enable-automation\"])\n",
    "options.add_experimental_option('useAutomationExtension', False)\n",
    "\n",
    "# avoiding detection\n",
    "options.add_argument('--disable-blink-features=AutomationControlled')\n",
    "\n",
    "# Default User Profile\n",
    "options.add_argument(\"--profile-directory=Default\")\n",
    "#options.add_argument(\"--user-data-dir=C:/Users/Admin/AppData/Local/Google/Chrome/User Data\")\n",
    "\n",
    "driver = webdriver.Chrome(options=options,executable_path=r'D:\\chromedriver.exe')\n",
    "driver.get('https://www.tiktok.com/login')\n",
    "actions = ActionChains(driver)\n"
   ]
  },
  {
   "cell_type": "code",
   "execution_count": null,
   "metadata": {},
   "outputs": [],
   "source": []
  },
  {
   "cell_type": "code",
   "execution_count": 3,
   "metadata": {},
   "outputs": [],
   "source": [
    "def TikTok_downloader (URL,Channel,Video_Id):\n",
    "    print('downloading')\n",
    "    for v,d in zip(URL,Video_Id):\n",
    "            cookies = {\n",
    "                '__cflb': '02DiuEcwseaiqqyPC5qqJA27ysjsZzMZ6vY8nMTEknoiB',\n",
    "                '_ga': 'GA1.2.838922016.1677961093',\n",
    "                '_gid': 'GA1.2.1948723415.1678480339',\n",
    "                '_gat_UA-3524196-6': '1',\n",
    "            }\n",
    "\n",
    "            headers = {\n",
    "                'authority': 'ssstik.io',\n",
    "                'accept': '*/*',\n",
    "                'accept-language': 'en-GB,en-US;q=0.9,en;q=0.8,ar;q=0.7',\n",
    "                'content-type': 'application/x-www-form-urlencoded; charset=UTF-8',\n",
    "                # 'cookie': '__cflb=02DiuEcwseaiqqyPC5qqJA27ysjsZzMZ6vY8nMTEknoiB; _ga=GA1.2.838922016.1677961093; _gid=GA1.2.1948723415.1678480339; _gat_UA-3524196-6=1',\n",
    "                'hx-current-url': 'https://ssstik.io/en',\n",
    "                'hx-request': 'true',\n",
    "                'hx-target': 'target',\n",
    "                'hx-trigger': '_gcaptcha_pt',\n",
    "                'origin': 'https://ssstik.io',\n",
    "                'referer': 'https://ssstik.io/en',\n",
    "                'sec-ch-ua': '\"Chromium\";v=\"110\", \"Not A(Brand\";v=\"24\", \"Google Chrome\";v=\"110\"',\n",
    "                'sec-ch-ua-mobile': '?0',\n",
    "                'sec-ch-ua-platform': '\"Windows\"',\n",
    "                'sec-fetch-dest': 'empty',\n",
    "                'sec-fetch-mode': 'cors',\n",
    "                'sec-fetch-site': 'same-origin',\n",
    "                'user-agent': 'Mozilla/5.0 (Windows NT 10.0; Win64; x64) AppleWebKit/537.36 (KHTML, like Gecko) Chrome/110.0.0.0 Safari/537.36',\n",
    "            }\n",
    "\n",
    "            params = {\n",
    "                'url': 'dl',\n",
    "            }\n",
    "\n",
    "            data = {\n",
    "                'id': v,\n",
    "                'locale': 'en',\n",
    "                'tt': 'Z2VTSmY5',\n",
    "            }\n",
    "            try:\n",
    "                time.sleep(random.randint(3,9))\n",
    "                response = requests.post('https://ssstik.io/abc', params=params, cookies=cookies, headers=headers, data=data)\n",
    "                time.sleep(random.randint(3,9))\n",
    "                downloadSoup = BeautifulSoup(response.text, \"html.parser\")\n",
    "                time.sleep(random.randint(7,15))\n",
    "                downloadLink = downloadSoup.a[\"href\"]\n",
    "                time.sleep(random.randint(3,9))\n",
    "                mp4File = urlopen(downloadLink)\n",
    "                Channel_folder = \"videos\\\\Girls\" + Channel\n",
    "                if path.exists(Channel_folder) != True:\n",
    "                    os.mkdir(Channel_folder)\n",
    "                Video_path = Channel_folder+\"\\\\\"+str(d)+\".mp4\"\n",
    "                if path.exists(Video_path) != True:\n",
    "                    with open(Video_path, \"wb\") as output:\n",
    "                        while True:\n",
    "                            data = mp4File.read(4096)\n",
    "                            if data:\n",
    "                                output.write(data)\n",
    "                            else:\n",
    "                                break\n",
    "            except:\n",
    "                pass"
   ]
  },
  {
   "cell_type": "code",
   "execution_count": 16,
   "metadata": {},
   "outputs": [
    {
     "name": "stdout",
     "output_type": "stream",
     "text": [
      "downloading\n"
     ]
    }
   ],
   "source": [
    "'https://www.tiktok.com/@comic_book_things','https://www.tiktok.com/@barryqsn','https://www.tiktok.com/@snack.edits','https://www.tiktok.com/@blaiirfx','https://www.tiktok.com/@lyzzahh','https://www.tiktok.com/@tay.little','https://www.tiktok.com/@karina.kuni?lang=en','https://www.tiktok.com/@hailfitness?lang=en',''"
   ]
  },
  {
   "cell_type": "code",
   "execution_count": null,
   "metadata": {},
   "outputs": [],
   "source": [
    "['https://www.tiktok.com/@itismyview','https://www.tiktok.com/@relationsh1psfacts','https://www.tiktok.com/@relationship._.quotes16','https://www.tiktok.com/@relationshipboss']"
   ]
  },
  {
   "cell_type": "code",
   "execution_count": 4,
   "metadata": {},
   "outputs": [
    {
     "name": "stdout",
     "output_type": "stream",
     "text": [
      "downloading\n",
      "downloading\n"
     ]
    },
    {
     "ename": "TimeoutException",
     "evalue": "Message: timeout: Timed out receiving message from renderer: 600.000\n  (Session info: chrome=110.0.5481.180)\nStacktrace:\nBacktrace:\n\t(No symbol) [0x00CD6643]\n\t(No symbol) [0x00C6BE21]\n\t(No symbol) [0x00B6DA9D]\n\t(No symbol) [0x00B5F55A]\n\t(No symbol) [0x00B5F2D8]\n\t(No symbol) [0x00B5DC68]\n\t(No symbol) [0x00B5E512]\n\t(No symbol) [0x00B5D205]\n\t(No symbol) [0x00B691BC]\n\t(No symbol) [0x00B5D0D5]\n\t(No symbol) [0x00B5EE5A]\n\t(No symbol) [0x00B5DC68]\n\t(No symbol) [0x00B5E512]\n\t(No symbol) [0x00B5D205]\n\t(No symbol) [0x00B6671C]\n\t(No symbol) [0x00B5D0D5]\n\t(No symbol) [0x00B5EE5A]\n\t(No symbol) [0x00B5DC68]\n\t(No symbol) [0x00B5E512]\n\t(No symbol) [0x00B5D205]\n\t(No symbol) [0x00B640E2]\n\t(No symbol) [0x00B5D0D5]\n\t(No symbol) [0x00B5EE5A]\n\t(No symbol) [0x00B5DC68]\n\t(No symbol) [0x00B5E512]\n\t(No symbol) [0x00B5D205]\n\t(No symbol) [0x00B55606]\n\t(No symbol) [0x00B5D0D5]\n\t(No symbol) [0x00B5C670]\n\t(No symbol) [0x00B5C7BF]\n\t(No symbol) [0x00B5CC94]\n\t(No symbol) [0x00B5CAD8]\n\t(No symbol) [0x00B6F253]\n\t(No symbol) [0x00BD6200]\n\t(No symbol) [0x00BBFB76]\n\t(No symbol) [0x00B949C1]\n\t(No symbol) [0x00B95E5D]\n\tGetHandleVerifier [0x00F4A142+2497106]\n\tGetHandleVerifier [0x00F785D3+2686691]\n\tGetHandleVerifier [0x00F7BB9C+2700460]\n\tGetHandleVerifier [0x00D83B10+635936]\n\t(No symbol) [0x00C74A1F]\n\t(No symbol) [0x00C7A418]\n\t(No symbol) [0x00C7A505]\n\t(No symbol) [0x00C8508B]\n\tBaseThreadInitThunk [0x76016BD9+25]\n\tRtlGetFullPathName_UEx [0x77958FD2+1218]\n\tRtlGetFullPathName_UEx [0x77958F9D+1165]\n",
     "output_type": "error",
     "traceback": [
      "\u001b[1;31m---------------------------------------------------------------------------\u001b[0m",
      "\u001b[1;31mTimeoutException\u001b[0m                          Traceback (most recent call last)",
      "\u001b[1;32m<ipython-input-4-98cbeedf709b>\u001b[0m in \u001b[0;36m<module>\u001b[1;34m\u001b[0m\n\u001b[0;32m      1\u001b[0m \u001b[1;32mfor\u001b[0m \u001b[0mi_channel\u001b[0m \u001b[1;32min\u001b[0m \u001b[1;33m[\u001b[0m\u001b[1;34m'https://www.tiktok.com/@barryqsn'\u001b[0m\u001b[1;33m,\u001b[0m\u001b[1;34m'https://www.tiktok.com/@snack.edits'\u001b[0m\u001b[1;33m,\u001b[0m\u001b[1;34m'https://www.tiktok.com/@blaiirfx'\u001b[0m\u001b[1;33m,\u001b[0m\u001b[1;34m'https://www.tiktok.com/@lyzzahh'\u001b[0m\u001b[1;33m,\u001b[0m\u001b[1;34m'https://www.tiktok.com/@tay.little'\u001b[0m\u001b[1;33m,\u001b[0m\u001b[1;34m'https://www.tiktok.com/@karina.kuni?lang=en'\u001b[0m\u001b[1;33m,\u001b[0m\u001b[1;34m'https://www.tiktok.com/@hailfitness?lang=en'\u001b[0m\u001b[1;33m]\u001b[0m\u001b[1;33m:\u001b[0m\u001b[1;33m\u001b[0m\u001b[1;33m\u001b[0m\u001b[0m\n\u001b[1;32m----> 2\u001b[1;33m     \u001b[0mdriver\u001b[0m\u001b[1;33m.\u001b[0m\u001b[0mget\u001b[0m\u001b[1;33m(\u001b[0m\u001b[0mi_channel\u001b[0m\u001b[1;33m)\u001b[0m\u001b[1;33m\u001b[0m\u001b[1;33m\u001b[0m\u001b[0m\n\u001b[0m\u001b[0;32m      3\u001b[0m     \u001b[0mtime\u001b[0m\u001b[1;33m.\u001b[0m\u001b[0msleep\u001b[0m\u001b[1;33m(\u001b[0m\u001b[0mrandom\u001b[0m\u001b[1;33m.\u001b[0m\u001b[0mrandint\u001b[0m\u001b[1;33m(\u001b[0m\u001b[1;36m20\u001b[0m\u001b[1;33m,\u001b[0m\u001b[1;36m24\u001b[0m\u001b[1;33m)\u001b[0m\u001b[1;33m)\u001b[0m\u001b[1;33m\u001b[0m\u001b[1;33m\u001b[0m\u001b[0m\n\u001b[0;32m      4\u001b[0m     \u001b[0mChannel_Name\u001b[0m \u001b[1;33m=\u001b[0m \u001b[0mdriver\u001b[0m\u001b[1;33m.\u001b[0m\u001b[0mfind_element\u001b[0m\u001b[1;33m(\u001b[0m\u001b[0mBy\u001b[0m\u001b[1;33m.\u001b[0m\u001b[0mXPATH\u001b[0m\u001b[1;33m,\u001b[0m \u001b[1;34m\"//h2[@class='tiktok-arkop9-H2ShareTitle ekmpd5l5']\"\u001b[0m\u001b[1;33m)\u001b[0m\u001b[1;33m.\u001b[0m\u001b[0mtext\u001b[0m\u001b[1;33m\u001b[0m\u001b[1;33m\u001b[0m\u001b[0m\n\u001b[0;32m      5\u001b[0m     \u001b[0mtime\u001b[0m\u001b[1;33m.\u001b[0m\u001b[0msleep\u001b[0m\u001b[1;33m(\u001b[0m\u001b[0mrandom\u001b[0m\u001b[1;33m.\u001b[0m\u001b[0mrandint\u001b[0m\u001b[1;33m(\u001b[0m\u001b[1;36m7\u001b[0m\u001b[1;33m,\u001b[0m\u001b[1;36m24\u001b[0m\u001b[1;33m)\u001b[0m\u001b[1;33m)\u001b[0m\u001b[1;33m\u001b[0m\u001b[1;33m\u001b[0m\u001b[0m\n",
      "\u001b[1;32m~\\anaconda3\\lib\\site-packages\\selenium\\webdriver\\remote\\webdriver.py\u001b[0m in \u001b[0;36mget\u001b[1;34m(self, url)\u001b[0m\n\u001b[0;32m    444\u001b[0m         \u001b[0mLoads\u001b[0m \u001b[0ma\u001b[0m \u001b[0mweb\u001b[0m \u001b[0mpage\u001b[0m \u001b[1;32min\u001b[0m \u001b[0mthe\u001b[0m \u001b[0mcurrent\u001b[0m \u001b[0mbrowser\u001b[0m \u001b[0msession\u001b[0m\u001b[1;33m.\u001b[0m\u001b[1;33m\u001b[0m\u001b[1;33m\u001b[0m\u001b[0m\n\u001b[0;32m    445\u001b[0m         \"\"\"\n\u001b[1;32m--> 446\u001b[1;33m         \u001b[0mself\u001b[0m\u001b[1;33m.\u001b[0m\u001b[0mexecute\u001b[0m\u001b[1;33m(\u001b[0m\u001b[0mCommand\u001b[0m\u001b[1;33m.\u001b[0m\u001b[0mGET\u001b[0m\u001b[1;33m,\u001b[0m \u001b[1;33m{\u001b[0m\u001b[1;34m'url'\u001b[0m\u001b[1;33m:\u001b[0m \u001b[0murl\u001b[0m\u001b[1;33m}\u001b[0m\u001b[1;33m)\u001b[0m\u001b[1;33m\u001b[0m\u001b[1;33m\u001b[0m\u001b[0m\n\u001b[0m\u001b[0;32m    447\u001b[0m \u001b[1;33m\u001b[0m\u001b[0m\n\u001b[0;32m    448\u001b[0m     \u001b[1;33m@\u001b[0m\u001b[0mproperty\u001b[0m\u001b[1;33m\u001b[0m\u001b[1;33m\u001b[0m\u001b[0m\n",
      "\u001b[1;32m~\\anaconda3\\lib\\site-packages\\selenium\\webdriver\\remote\\webdriver.py\u001b[0m in \u001b[0;36mexecute\u001b[1;34m(self, driver_command, params)\u001b[0m\n\u001b[0;32m    432\u001b[0m         \u001b[0mresponse\u001b[0m \u001b[1;33m=\u001b[0m \u001b[0mself\u001b[0m\u001b[1;33m.\u001b[0m\u001b[0mcommand_executor\u001b[0m\u001b[1;33m.\u001b[0m\u001b[0mexecute\u001b[0m\u001b[1;33m(\u001b[0m\u001b[0mdriver_command\u001b[0m\u001b[1;33m,\u001b[0m \u001b[0mparams\u001b[0m\u001b[1;33m)\u001b[0m\u001b[1;33m\u001b[0m\u001b[1;33m\u001b[0m\u001b[0m\n\u001b[0;32m    433\u001b[0m         \u001b[1;32mif\u001b[0m \u001b[0mresponse\u001b[0m\u001b[1;33m:\u001b[0m\u001b[1;33m\u001b[0m\u001b[1;33m\u001b[0m\u001b[0m\n\u001b[1;32m--> 434\u001b[1;33m             \u001b[0mself\u001b[0m\u001b[1;33m.\u001b[0m\u001b[0merror_handler\u001b[0m\u001b[1;33m.\u001b[0m\u001b[0mcheck_response\u001b[0m\u001b[1;33m(\u001b[0m\u001b[0mresponse\u001b[0m\u001b[1;33m)\u001b[0m\u001b[1;33m\u001b[0m\u001b[1;33m\u001b[0m\u001b[0m\n\u001b[0m\u001b[0;32m    435\u001b[0m             response['value'] = self._unwrap_value(\n\u001b[0;32m    436\u001b[0m                 response.get('value', None))\n",
      "\u001b[1;32m~\\anaconda3\\lib\\site-packages\\selenium\\webdriver\\remote\\errorhandler.py\u001b[0m in \u001b[0;36mcheck_response\u001b[1;34m(self, response)\u001b[0m\n\u001b[0;32m    241\u001b[0m                 \u001b[0malert_text\u001b[0m \u001b[1;33m=\u001b[0m \u001b[0mvalue\u001b[0m\u001b[1;33m[\u001b[0m\u001b[1;34m'alert'\u001b[0m\u001b[1;33m]\u001b[0m\u001b[1;33m.\u001b[0m\u001b[0mget\u001b[0m\u001b[1;33m(\u001b[0m\u001b[1;34m'text'\u001b[0m\u001b[1;33m)\u001b[0m\u001b[1;33m\u001b[0m\u001b[1;33m\u001b[0m\u001b[0m\n\u001b[0;32m    242\u001b[0m             \u001b[1;32mraise\u001b[0m \u001b[0mexception_class\u001b[0m\u001b[1;33m(\u001b[0m\u001b[0mmessage\u001b[0m\u001b[1;33m,\u001b[0m \u001b[0mscreen\u001b[0m\u001b[1;33m,\u001b[0m \u001b[0mstacktrace\u001b[0m\u001b[1;33m,\u001b[0m \u001b[0malert_text\u001b[0m\u001b[1;33m)\u001b[0m  \u001b[1;31m# type: ignore[call-arg]  # mypy is not smart enough here\u001b[0m\u001b[1;33m\u001b[0m\u001b[1;33m\u001b[0m\u001b[0m\n\u001b[1;32m--> 243\u001b[1;33m         \u001b[1;32mraise\u001b[0m \u001b[0mexception_class\u001b[0m\u001b[1;33m(\u001b[0m\u001b[0mmessage\u001b[0m\u001b[1;33m,\u001b[0m \u001b[0mscreen\u001b[0m\u001b[1;33m,\u001b[0m \u001b[0mstacktrace\u001b[0m\u001b[1;33m)\u001b[0m\u001b[1;33m\u001b[0m\u001b[1;33m\u001b[0m\u001b[0m\n\u001b[0m",
      "\u001b[1;31mTimeoutException\u001b[0m: Message: timeout: Timed out receiving message from renderer: 600.000\n  (Session info: chrome=110.0.5481.180)\nStacktrace:\nBacktrace:\n\t(No symbol) [0x00CD6643]\n\t(No symbol) [0x00C6BE21]\n\t(No symbol) [0x00B6DA9D]\n\t(No symbol) [0x00B5F55A]\n\t(No symbol) [0x00B5F2D8]\n\t(No symbol) [0x00B5DC68]\n\t(No symbol) [0x00B5E512]\n\t(No symbol) [0x00B5D205]\n\t(No symbol) [0x00B691BC]\n\t(No symbol) [0x00B5D0D5]\n\t(No symbol) [0x00B5EE5A]\n\t(No symbol) [0x00B5DC68]\n\t(No symbol) [0x00B5E512]\n\t(No symbol) [0x00B5D205]\n\t(No symbol) [0x00B6671C]\n\t(No symbol) [0x00B5D0D5]\n\t(No symbol) [0x00B5EE5A]\n\t(No symbol) [0x00B5DC68]\n\t(No symbol) [0x00B5E512]\n\t(No symbol) [0x00B5D205]\n\t(No symbol) [0x00B640E2]\n\t(No symbol) [0x00B5D0D5]\n\t(No symbol) [0x00B5EE5A]\n\t(No symbol) [0x00B5DC68]\n\t(No symbol) [0x00B5E512]\n\t(No symbol) [0x00B5D205]\n\t(No symbol) [0x00B55606]\n\t(No symbol) [0x00B5D0D5]\n\t(No symbol) [0x00B5C670]\n\t(No symbol) [0x00B5C7BF]\n\t(No symbol) [0x00B5CC94]\n\t(No symbol) [0x00B5CAD8]\n\t(No symbol) [0x00B6F253]\n\t(No symbol) [0x00BD6200]\n\t(No symbol) [0x00BBFB76]\n\t(No symbol) [0x00B949C1]\n\t(No symbol) [0x00B95E5D]\n\tGetHandleVerifier [0x00F4A142+2497106]\n\tGetHandleVerifier [0x00F785D3+2686691]\n\tGetHandleVerifier [0x00F7BB9C+2700460]\n\tGetHandleVerifier [0x00D83B10+635936]\n\t(No symbol) [0x00C74A1F]\n\t(No symbol) [0x00C7A418]\n\t(No symbol) [0x00C7A505]\n\t(No symbol) [0x00C8508B]\n\tBaseThreadInitThunk [0x76016BD9+25]\n\tRtlGetFullPathName_UEx [0x77958FD2+1218]\n\tRtlGetFullPathName_UEx [0x77958F9D+1165]\n"
     ]
    }
   ],
   "source": [
    "for i_channel in ['https://www.tiktok.com/@barryqsn','https://www.tiktok.com/@snack.edits','https://www.tiktok.com/@blaiirfx','https://www.tiktok.com/@lyzzahh','https://www.tiktok.com/@tay.little','https://www.tiktok.com/@karina.kuni?lang=en','https://www.tiktok.com/@hailfitness?lang=en']:\n",
    "    driver.get(i_channel)\n",
    "    time.sleep(random.randint(20,24))\n",
    "    Channel_Name = driver.find_element(By.XPATH, \"//h2[@class='tiktok-arkop9-H2ShareTitle ekmpd5l5']\").text\n",
    "    time.sleep(random.randint(7,24))\n",
    "    Channel_Image = driver.find_element(By.XPATH, \"//img[@class='tiktok-1zpj2q-ImgAvatar e1e9er4e1']\").get_attribute(\"src\")\n",
    "    time.sleep(random.randint(7,24))\n",
    "    SCROLL_PAUSE_TIME = 10\n",
    "    # Get scroll height\n",
    "    last_height = driver.execute_script(\"return document.body.scrollHeight\")\n",
    "    while True:\n",
    "        # Scroll down to bottom\n",
    "        driver.execute_script(\"window.scrollTo(0, document.body.scrollHeight);\")\n",
    "        # Wait to load page\n",
    "        time.sleep(SCROLL_PAUSE_TIME)\n",
    "        # Calculate new scroll height and compare with last scroll height\n",
    "        new_height = driver.execute_script(\"return document.body.scrollHeight\")\n",
    "        if new_height == last_height:\n",
    "            break\n",
    "        last_height = new_height\n",
    "    time.sleep(random.randint(7,24))\n",
    "    Row_Video_List = driver.find_elements(By.XPATH, \"//div[@class='tiktok-yz6ijl-DivWrapper e1cg0wnj1']/a\")\n",
    "    time.sleep(random.randint(7,24))\n",
    "    Row_Video_disc = driver.find_elements(By.XPATH, \"//a[@class='tiktok-1wrhn5c-AMetaCaptionLine eih2qak0']\")\n",
    "    time.sleep(random.randint(7,24))\n",
    "    Video_id = len(Row_Video_List)\n",
    "    Video_list = list()\n",
    "    Video_id_list = list()\n",
    "    Video_disc = list()\n",
    "    for i in range(len(Row_Video_List)):\n",
    "        try:\n",
    "            Video_list.append(Row_Video_List[i].get_attribute(\"href\"))\n",
    "            Video_disc.append(Row_Video_disc[i].get_attribute(\"title\"))\n",
    "            Video_id_list.append(Video_id)\n",
    "            Video_id = Video_id -1\n",
    "        except:\n",
    "            yuo=0\n",
    "    data_x_dict = {'Video_disc':Video_disc,'Video_id_list':Video_id_list}\n",
    "    data_ex = pd.DataFrame(data_x_dict)\n",
    "    data_ex.to_csv(Channel_Name+'.csv')\n",
    "    TikTok_downloader (Video_list,Channel_Name,Video_id_list)"
   ]
  },
  {
   "cell_type": "code",
   "execution_count": 160,
   "metadata": {},
   "outputs": [],
   "source": [
    "def TikTok_Uploader(Video_link,Video_disc):\n",
    "    driver.get(\"https://www.tiktok.com/upload?lang=en\")\n",
    "    time.sleep(10)\n",
    "    driver.switch_to.frame(driver.find_element(By.TAG_NAME,\"iframe\"))\n",
    "    drag_drop=driver.find_element(By.XPATH, \"/html/body/div/div/div/div/div/div/div/input\")\n",
    "    Video_full_link = 'C:\\\\Users\\\\Ahmed\\\\channels project\\\\'+Video_link\n",
    "    drag_drop.send_keys(Video_full_link)\n",
    "    time.sleep(30)\n",
    "    disc_form = driver.find_element(By.XPATH, \"//div[@class='public-DraftStyleDefault-block public-DraftStyleDefault-ltr']\")\n",
    "    disc_form.send_keys(Video_disc)\n",
    "    time.sleep(10)\n",
    "    upload_button = driver.find_element(By.XPATH, \"//button[@class='css-y1m958']\")\n",
    "    upload_button.click()\n",
    "    time.sleep(15)\n",
    "    go_to_button = driver.find_element(By.XPATH, \"//div[@class='tiktok-modal__modal-button is-line']\")\n",
    "    go_to_button.click()\n",
    "    time.sleep(10)"
   ]
  },
  {
   "cell_type": "code",
   "execution_count": 10,
   "metadata": {},
   "outputs": [
    {
     "data": {
      "text/plain": [
       "19    https://www.tiktok.com/@jonpenberthy?_t=8aMq8I...\n",
       "Name: https://www.tiktok.com/@oliviapercoco?_t=8aMpAN0ygTO&_r=1, dtype: object"
      ]
     },
     "execution_count": 10,
     "metadata": {},
     "output_type": "execute_result"
    }
   ],
   "source": [
    "Data['https://www.tiktok.com/@oliviapercoco?_t=8aMpAN0ygTO&_r=1'][19:20]"
   ]
  },
  {
   "cell_type": "code",
   "execution_count": 27,
   "metadata": {},
   "outputs": [],
   "source": []
  },
  {
   "cell_type": "code",
   "execution_count": 28,
   "metadata": {},
   "outputs": [],
   "source": [
    "\n"
   ]
  },
  {
   "cell_type": "code",
   "execution_count": 30,
   "metadata": {},
   "outputs": [],
   "source": [
    "Channel='gfdgf'"
   ]
  },
  {
   "cell_type": "code",
   "execution_count": 32,
   "metadata": {},
   "outputs": [],
   "source": [
    "d='fdfd'"
   ]
  },
  {
   "cell_type": "code",
   "execution_count": 33,
   "metadata": {},
   "outputs": [],
   "source": []
  },
  {
   "cell_type": "code",
   "execution_count": null,
   "metadata": {},
   "outputs": [],
   "source": []
  }
 ],
 "metadata": {
  "kernelspec": {
   "display_name": "Python 3",
   "language": "python",
   "name": "python3"
  },
  "language_info": {
   "codemirror_mode": {
    "name": "ipython",
    "version": 3
   },
   "file_extension": ".py",
   "mimetype": "text/x-python",
   "name": "python",
   "nbconvert_exporter": "python",
   "pygments_lexer": "ipython3",
   "version": "3.8.3"
  }
 },
 "nbformat": 4,
 "nbformat_minor": 4
}
